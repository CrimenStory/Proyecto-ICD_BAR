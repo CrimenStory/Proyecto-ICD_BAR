{
 "cells": [
  {
   "cell_type": "markdown",
   "metadata": {},
   "source": [
    "*Nombres de los Restaurantes Analizados(Hasta Ahora):*"
   ]
  },
  {
   "cell_type": "code",
   "execution_count": null,
   "metadata": {},
   "outputs": [
    {
     "name": "stdout",
     "output_type": "stream",
     "text": [
      "Restaurante El Pavo\n"
     ]
    }
   ],
   "source": [
    "import json\n",
    "import os\n",
    "folder_path = 'Restaurantes'  \n",
    "nombres = []\n",
    "for filename in os.listdir(folder_path):\n",
    "    if filename.endswith('.json'):  \n",
    "        file_path = os.path.join(folder_path, filename)  \n",
    "        with open(file_path, 'r') as file:\n",
    "            data = json.load(file)\n",
    "            if 'nombre' in data:\n",
    "                nombre = data['nombre']\n",
    "                nombres.append(nombre)\n",
    "for nombre in nombres:\n",
    "    print(nombre)"
   ]
  }
 ],
 "metadata": {
  "kernelspec": {
   "display_name": "Python 3",
   "language": "python",
   "name": "python3"
  },
  "language_info": {
   "codemirror_mode": {
    "name": "ipython",
    "version": 3
   },
   "file_extension": ".py",
   "mimetype": "text/x-python",
   "name": "python",
   "nbconvert_exporter": "python",
   "pygments_lexer": "ipython3",
   "version": "3.13.0"
  }
 },
 "nbformat": 4,
 "nbformat_minor": 2
}
